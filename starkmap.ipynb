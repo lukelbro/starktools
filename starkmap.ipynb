{
 "cells": [
  {
   "cell_type": "markdown",
   "source": [
    "# Stark Map\n",
    "\n",
    "In this notebook"
   ],
   "metadata": {}
  },
  {
   "cell_type": "code",
   "execution_count": 53,
   "source": [
    "import importlib\n",
    "import starktools as st\n",
    "\n",
    "import numpy as np\n",
    "from numba import jit, prange, njit\n",
    "import scipy.sparse.linalg"
   ],
   "outputs": [],
   "metadata": {}
  },
  {
   "cell_type": "code",
   "execution_count": 49,
   "source": [
    "defects = {\n",
    "        0 : [0.29665648771, 0.038296666, 0.0075131, -0.0045476],\n",
    "        1 : [0.06836028379, -0.018629228, -0.01233275, -0.0079527],\n",
    "        2 : [0.002891328825, -0.006357704, 0.0003367, 0.0008395],\n",
    "        3 : [0.00044737927, -0.001739217, 0.00010478, 3.31e-05],\n",
    "        4 : [0.00012714167, -0.000796484, -9.85e-06, -1.9e-05],\n",
    "        5 : [4.8729846e-05, -0.0004332281, -8.1e-06, 0],\n",
    "        6 : [2.3047609e-05, -0.0002610672, -4.04e-06, 0]\n",
    "}"
   ],
   "outputs": [],
   "metadata": {}
  },
  {
   "cell_type": "code",
   "execution_count": 110,
   "source": [
    "importlib.reload(st)\n",
    "nmin = 50\n",
    "nmax = 60\n",
    "m0 = st.MatrixH0(nmin, nmax, defects)\n",
    "mH = st.MatrixHs(nmin, nmax, defects)"
   ],
   "outputs": [],
   "metadata": {}
  },
  {
   "cell_type": "code",
   "execution_count": 111,
   "source": [
    "m0.nmax"
   ],
   "outputs": [
    {
     "output_type": "execute_result",
     "data": {
      "text/plain": [
       "60"
      ]
     },
     "metadata": {},
     "execution_count": 111
    }
   ],
   "metadata": {}
  },
  {
   "cell_type": "code",
   "execution_count": 112,
   "source": [
    "#CODATA 2014, DOI: 10.1103/RevModPhys.88.035009\n",
    "c = 299792458.0 ## speed of Heght in vacuum\n",
    "h = 6.626070040e-34\n",
    "hbar = 1.054571800e-34\n",
    "\n",
    "Ry = 10973731.568508\n",
    "e = 1.6021766208e-19\n",
    "m_e = 9.10938356e-31\n",
    "alpha = 7.2973525664e-3\n",
    "amu = 1.660539040e-27 # Kg   (NIST) unified atomic mass unit \n",
    "\n",
    "\n",
    "a_0 = hbar/ (m_e * c * alpha)\n",
    "mu_B = e * hbar / (2.0 * m_e)\n",
    "\n",
    "\n",
    "# Helium\n",
    "mHe = 4.0026*amu\n",
    "mHeIon = mHe - m_e\n",
    "reducedMass = (mHeIon * m_e)/(mHeIon+m_e)\n",
    "\n",
    "\n",
    "a_He  = (a_0*m_e)/reducedMass\n",
    "\n",
    "R_He = Ry * reducedMass/m_e\n",
    "E_He = 2*h*c*R_He\n",
    "F_He = E_He/(a_He*e)"
   ],
   "outputs": [],
   "metadata": {}
  },
  {
   "cell_type": "code",
   "execution_count": 116,
   "source": [
    "field = np.linspace(0, 30, 400)# V /m\n",
    "v = map_maker(np.asarray(m0), np.asarray(mH), field)"
   ],
   "outputs": [],
   "metadata": {}
  },
  {
   "cell_type": "code",
   "execution_count": 92,
   "source": [
    "def map_maker1(m0_array, mH_array, field):\n",
    "    fsteps = field.shape[0]\n",
    "    neig = m0_array.shape[0]\n",
    "    \n",
    "    vals = np.zeros((fsteps, neig))\n",
    "    for i in range(fsteps):\n",
    "        fau = field[i] / F_He\n",
    "        val = (scipy.linalg.eigh(m0_array + mH_array*fau, eigvals_only=True) * E_He)/(h*c*100)\n",
    "        for j in range(neig):\n",
    "            vals[i,j] = val[j]\n",
    "    return vals"
   ],
   "outputs": [],
   "metadata": {}
  },
  {
   "cell_type": "code",
   "execution_count": 117,
   "source": [
    "field = np.linspace(0, 30, 400)# V /m\n",
    "v1 = map_maker1(np.asarray(m0), np.asarray(mH), field)"
   ],
   "outputs": [],
   "metadata": {}
  },
  {
   "cell_type": "code",
   "execution_count": 15,
   "source": [
    "vals = np.zeros((10, 20))"
   ],
   "outputs": [],
   "metadata": {}
  },
  {
   "cell_type": "code",
   "execution_count": 25,
   "source": [
    "from numba import types\n",
    "types.Array"
   ],
   "outputs": [
    {
     "output_type": "execute_result",
     "data": {
      "text/plain": [
       "numba.core.types.npytypes.Array"
      ]
     },
     "metadata": {},
     "execution_count": 25
    }
   ],
   "metadata": {}
  },
  {
   "cell_type": "markdown",
   "source": [
    "Numba Support"
   ],
   "metadata": {}
  },
  {
   "cell_type": "code",
   "execution_count": null,
   "source": [
    "from numba import int32, float32 "
   ],
   "outputs": [],
   "metadata": {}
  },
  {
   "cell_type": "code",
   "execution_count": 108,
   "source": [
    "import numpy.lib.mixins\n",
    "from numba import int32, float32\n",
    "from numba.experimental import jitclass\n",
    "\n",
    "spec = [             # a simple scalar field\n",
    "    ('array', float32[:]),          # an array field\n",
    "]\n",
    "@jitclass(spec)\n",
    "class DiagonalArray(numpy.lib.mixins.NDArrayOperatorsMixin):\n",
    "   def __init__(self, N, value):\n",
    "       self._N = N\n",
    "       self._i = value\n",
    "       self.array = self.__array__\n",
    "   def __repr__(self):\n",
    "       return f\"{self.__class__.__name__}(N={self._N}, value={self._i})\"\n",
    "   def __array__(self, dtype=None):\n",
    "       return self._i * np.eye(self._N, dtype=None)\n",
    "   def __array_ufunc__(self, ufunc, method, *inputs, **kwargs):\n",
    "       if method == '__call__':\n",
    "           N = None\n",
    "           scalars = []\n",
    "           for input in inputs:\n",
    "               if isinstance(input, Number):\n",
    "                   scalars.append(input)\n",
    "               elif isinstance(input, self.__class__):\n",
    "                   scalars.append(input._i)\n",
    "                   if N is not None:\n",
    "                       if N != self._N:\n",
    "                           raise TypeError(\"inconsistent sizes\")\n",
    "                   else:\n",
    "                       N = self._N\n",
    "               else:\n",
    "                   return NotImplemented\n",
    "           return self.__class__(N, ufunc(*scalars, **kwargs))\n",
    "       else:\n",
    "           return NotImplemented"
   ],
   "outputs": [
    {
     "output_type": "error",
     "ename": "TypeError",
     "evalue": "class members are not yet supported: __hash__",
     "traceback": [
      "\u001b[0;31m---------------------------------------------------------------------------\u001b[0m",
      "\u001b[0;31mTypeError\u001b[0m                                 Traceback (most recent call last)",
      "\u001b[0;32m/var/folders/c2/rg2547w90wbdj10vy05z8c8m0000gn/T/ipykernel_12118/3376259224.py\u001b[0m in \u001b[0;36m<module>\u001b[0;34m\u001b[0m\n\u001b[1;32m      7\u001b[0m ]\n\u001b[1;32m      8\u001b[0m \u001b[0;34m@\u001b[0m\u001b[0mjitclass\u001b[0m\u001b[0;34m(\u001b[0m\u001b[0mspec\u001b[0m\u001b[0;34m)\u001b[0m\u001b[0;34m\u001b[0m\u001b[0;34m\u001b[0m\u001b[0m\n\u001b[0;32m----> 9\u001b[0;31m \u001b[0;32mclass\u001b[0m \u001b[0mDiagonalArray\u001b[0m\u001b[0;34m(\u001b[0m\u001b[0mnumpy\u001b[0m\u001b[0;34m.\u001b[0m\u001b[0mlib\u001b[0m\u001b[0;34m.\u001b[0m\u001b[0mmixins\u001b[0m\u001b[0;34m.\u001b[0m\u001b[0mNDArrayOperatorsMixin\u001b[0m\u001b[0;34m)\u001b[0m\u001b[0;34m:\u001b[0m\u001b[0;34m\u001b[0m\u001b[0;34m\u001b[0m\u001b[0m\n\u001b[0m\u001b[1;32m     10\u001b[0m    \u001b[0;32mdef\u001b[0m \u001b[0m__init__\u001b[0m\u001b[0;34m(\u001b[0m\u001b[0mself\u001b[0m\u001b[0;34m,\u001b[0m \u001b[0mN\u001b[0m\u001b[0;34m,\u001b[0m \u001b[0mvalue\u001b[0m\u001b[0;34m)\u001b[0m\u001b[0;34m:\u001b[0m\u001b[0;34m\u001b[0m\u001b[0;34m\u001b[0m\u001b[0m\n\u001b[1;32m     11\u001b[0m        \u001b[0mself\u001b[0m\u001b[0;34m.\u001b[0m\u001b[0m_N\u001b[0m \u001b[0;34m=\u001b[0m \u001b[0mN\u001b[0m\u001b[0;34m\u001b[0m\u001b[0;34m\u001b[0m\u001b[0m\n",
      "\u001b[0;32m~/Documents/PhD/Dipole Nulling/dipole_nulling.nosync/lib/python3.8/site-packages/numba/experimental/jitclass/decorators.py\u001b[0m in \u001b[0;36mwrap\u001b[0;34m(cls)\u001b[0m\n\u001b[1;32m     74\u001b[0m             \u001b[0;32mreturn\u001b[0m \u001b[0mcls\u001b[0m\u001b[0;34m\u001b[0m\u001b[0;34m\u001b[0m\u001b[0m\n\u001b[1;32m     75\u001b[0m         \u001b[0;32melse\u001b[0m\u001b[0;34m:\u001b[0m\u001b[0;34m\u001b[0m\u001b[0;34m\u001b[0m\u001b[0m\n\u001b[0;32m---> 76\u001b[0;31m             \u001b[0;32mreturn\u001b[0m \u001b[0mregister_class_type\u001b[0m\u001b[0;34m(\u001b[0m\u001b[0mcls\u001b[0m\u001b[0;34m,\u001b[0m \u001b[0mspec\u001b[0m\u001b[0;34m,\u001b[0m \u001b[0mtypes\u001b[0m\u001b[0;34m.\u001b[0m\u001b[0mClassType\u001b[0m\u001b[0;34m,\u001b[0m \u001b[0mClassBuilder\u001b[0m\u001b[0;34m)\u001b[0m\u001b[0;34m\u001b[0m\u001b[0;34m\u001b[0m\u001b[0m\n\u001b[0m\u001b[1;32m     77\u001b[0m \u001b[0;34m\u001b[0m\u001b[0m\n\u001b[1;32m     78\u001b[0m     \u001b[0;32mif\u001b[0m \u001b[0mcls_or_spec\u001b[0m \u001b[0;32mis\u001b[0m \u001b[0;32mNone\u001b[0m\u001b[0;34m:\u001b[0m\u001b[0;34m\u001b[0m\u001b[0;34m\u001b[0m\u001b[0m\n",
      "\u001b[0;32m~/Documents/PhD/Dipole Nulling/dipole_nulling.nosync/lib/python3.8/site-packages/numba/experimental/jitclass/base.py\u001b[0m in \u001b[0;36mregister_class_type\u001b[0;34m(cls, spec, class_ctor, builder)\u001b[0m\n\u001b[1;32m    209\u001b[0m         \u001b[0mmsg\u001b[0m \u001b[0;34m=\u001b[0m \u001b[0;34m\"class members are not yet supported: {0}\"\u001b[0m\u001b[0;34m\u001b[0m\u001b[0;34m\u001b[0m\u001b[0m\n\u001b[1;32m    210\u001b[0m         \u001b[0mmembers\u001b[0m \u001b[0;34m=\u001b[0m \u001b[0;34m', '\u001b[0m\u001b[0;34m.\u001b[0m\u001b[0mjoin\u001b[0m\u001b[0;34m(\u001b[0m\u001b[0mothers\u001b[0m\u001b[0;34m.\u001b[0m\u001b[0mkeys\u001b[0m\u001b[0;34m(\u001b[0m\u001b[0;34m)\u001b[0m\u001b[0;34m)\u001b[0m\u001b[0;34m\u001b[0m\u001b[0;34m\u001b[0m\u001b[0m\n\u001b[0;32m--> 211\u001b[0;31m         \u001b[0;32mraise\u001b[0m \u001b[0mTypeError\u001b[0m\u001b[0;34m(\u001b[0m\u001b[0mmsg\u001b[0m\u001b[0;34m.\u001b[0m\u001b[0mformat\u001b[0m\u001b[0;34m(\u001b[0m\u001b[0mmembers\u001b[0m\u001b[0;34m)\u001b[0m\u001b[0;34m)\u001b[0m\u001b[0;34m\u001b[0m\u001b[0;34m\u001b[0m\u001b[0m\n\u001b[0m\u001b[1;32m    212\u001b[0m \u001b[0;34m\u001b[0m\u001b[0m\n\u001b[1;32m    213\u001b[0m     \u001b[0;32mfor\u001b[0m \u001b[0mk\u001b[0m\u001b[0;34m,\u001b[0m \u001b[0mv\u001b[0m \u001b[0;32min\u001b[0m \u001b[0mprops\u001b[0m\u001b[0;34m.\u001b[0m\u001b[0mitems\u001b[0m\u001b[0;34m(\u001b[0m\u001b[0;34m)\u001b[0m\u001b[0;34m:\u001b[0m\u001b[0;34m\u001b[0m\u001b[0;34m\u001b[0m\u001b[0m\n",
      "\u001b[0;31mTypeError\u001b[0m: class members are not yet supported: __hash__"
     ]
    }
   ],
   "metadata": {}
  },
  {
   "cell_type": "code",
   "execution_count": 102,
   "source": [
    "class DiagonalArrayType(types.Array):\n",
    "    def __init__(self):\n",
    "        super(DiagonalArrayType, self).__init__(name='DiagonalArray')"
   ],
   "outputs": [],
   "metadata": {}
  },
  {
   "cell_type": "code",
   "execution_count": 103,
   "source": [
    "from numba.extending import typeof_impl\n",
    "@typeof_impl.register(DiagonalArray)\n",
    "def _typeof_DiagnolArray(val, c):\n",
    "    return types.Array"
   ],
   "outputs": [],
   "metadata": {}
  },
  {
   "cell_type": "code",
   "execution_count": 104,
   "source": [
    "@jit(nopython=True)\n",
    "def func_eig(interval):\n",
    "    return np.linalg.eigvals(interval)"
   ],
   "outputs": [],
   "metadata": {}
  },
  {
   "cell_type": "code",
   "execution_count": 105,
   "source": [
    "arr = DiagonalArray(5, 1)\n",
    "np.asarray(arr+arr)"
   ],
   "outputs": [
    {
     "output_type": "execute_result",
     "data": {
      "text/plain": [
       "array([[2., 0., 0., 0., 0.],\n",
       "       [0., 2., 0., 0., 0.],\n",
       "       [0., 0., 2., 0., 0.],\n",
       "       [0., 0., 0., 2., 0.],\n",
       "       [0., 0., 0., 0., 2.]])"
      ]
     },
     "metadata": {},
     "execution_count": 105
    }
   ],
   "metadata": {}
  },
  {
   "cell_type": "code",
   "execution_count": 106,
   "source": [
    "func_eig(arr)"
   ],
   "outputs": [
    {
     "output_type": "error",
     "ename": "AttributeError",
     "evalue": "type object 'Array' has no attribute '_code'",
     "traceback": [
      "\u001b[0;31m---------------------------------------------------------------------------\u001b[0m",
      "\u001b[0;31mAttributeError\u001b[0m                            Traceback (most recent call last)",
      "\u001b[0;32m/var/folders/c2/rg2547w90wbdj10vy05z8c8m0000gn/T/ipykernel_12118/2580600614.py\u001b[0m in \u001b[0;36m<module>\u001b[0;34m\u001b[0m\n\u001b[0;32m----> 1\u001b[0;31m \u001b[0mfunc_eig\u001b[0m\u001b[0;34m(\u001b[0m\u001b[0marr\u001b[0m\u001b[0;34m)\u001b[0m\u001b[0;34m\u001b[0m\u001b[0;34m\u001b[0m\u001b[0m\n\u001b[0m",
      "\u001b[0;31mAttributeError\u001b[0m: type object 'Array' has no attribute '_code'"
     ]
    }
   ],
   "metadata": {}
  },
  {
   "cell_type": "code",
   "execution_count": null,
   "source": [],
   "outputs": [],
   "metadata": {}
  }
 ],
 "metadata": {
  "orig_nbformat": 4,
  "language_info": {
   "name": "python",
   "version": "3.8.8",
   "mimetype": "text/x-python",
   "codemirror_mode": {
    "name": "ipython",
    "version": 3
   },
   "pygments_lexer": "ipython3",
   "nbconvert_exporter": "python",
   "file_extension": ".py"
  },
  "kernelspec": {
   "name": "python3",
   "display_name": "Python 3.8.8 64-bit ('dipole_nulling.nosync': venv)"
  },
  "interpreter": {
   "hash": "8ef10fb38a075736f6457e015773a82d996fc3223fecaa58af07dade82e60e32"
  }
 },
 "nbformat": 4,
 "nbformat_minor": 2
}