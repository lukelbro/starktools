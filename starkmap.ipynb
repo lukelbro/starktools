{
 "cells": [
  {
   "cell_type": "markdown",
   "metadata": {},
   "source": [
    "# Stark Map\n",
    "\n",
    "In this notebook"
   ]
  },
  {
   "cell_type": "code",
   "execution_count": 1,
   "metadata": {},
   "outputs": [],
   "source": [
    "import importlib\n",
    "import starktools as st\n",
    "\n",
    "import numpy as np\n",
    "from numba import jit, prange, njit\n",
    "import scipy.linalg"
   ]
  },
  {
   "cell_type": "code",
   "execution_count": 2,
   "metadata": {},
   "outputs": [],
   "source": [
    "defects = {\n",
    "        0 : [0.29665648771, 0.038296666, 0.0075131, -0.0045476],\n",
    "        1 : [0.06836028379, -0.018629228, -0.01233275, -0.0079527],\n",
    "        2 : [0.002891328825, -0.006357704, 0.0003367, 0.0008395],\n",
    "        3 : [0.00044737927, -0.001739217, 0.00010478, 3.31e-05],\n",
    "        4 : [0.00012714167, -0.000796484, -9.85e-06, -1.9e-05],\n",
    "        5 : [4.8729846e-05, -0.0004332281, -8.1e-06, 0],\n",
    "        6 : [2.3047609e-05, -0.0002610672, -4.04e-06, 0]\n",
    "}"
   ]
  },
  {
   "cell_type": "code",
   "execution_count": 3,
   "metadata": {},
   "outputs": [],
   "source": [
    "importlib.reload(st)\n",
    "nmin = 50\n",
    "nmax = 55\n",
    "m0 = st.MatrixH0(nmin, nmax, defects)\n",
    "mH = st.MatrixHs(nmin, nmax, defects)"
   ]
  },
  {
   "cell_type": "code",
   "execution_count": 4,
   "metadata": {},
   "outputs": [
    {
     "data": {
      "text/plain": [
       "(315, 315)"
      ]
     },
     "execution_count": 4,
     "metadata": {},
     "output_type": "execute_result"
    }
   ],
   "source": [
    "m0.shape"
   ]
  },
  {
   "cell_type": "code",
   "execution_count": 5,
   "metadata": {},
   "outputs": [
    {
     "data": {
      "text/plain": [
       "55"
      ]
     },
     "execution_count": 5,
     "metadata": {},
     "output_type": "execute_result"
    }
   ],
   "source": [
    "m0.nmax"
   ]
  },
  {
   "cell_type": "code",
   "execution_count": 6,
   "metadata": {},
   "outputs": [],
   "source": [
    "#CODATA 2014, DOI: 10.1103/RevModPhys.88.035009\n",
    "c = 299792458.0 ## speed of Heght in vacuum\n",
    "h = 6.626070040e-34\n",
    "hbar = 1.054571800e-34\n",
    "\n",
    "Ry = 10973731.568508\n",
    "e = 1.6021766208e-19\n",
    "m_e = 9.10938356e-31\n",
    "alpha = 7.2973525664e-3\n",
    "amu = 1.660539040e-27 # Kg   (NIST) unified atomic mass unit \n",
    "\n",
    "\n",
    "a_0 = hbar/ (m_e * c * alpha)\n",
    "mu_B = e * hbar / (2.0 * m_e)\n",
    "\n",
    "\n",
    "# Helium\n",
    "mHe = 4.0026*amu\n",
    "mHeIon = mHe - m_e\n",
    "reducedMass = (mHeIon * m_e)/(mHeIon+m_e)\n",
    "\n",
    "\n",
    "a_He  = (a_0*m_e)/reducedMass\n",
    "\n",
    "R_He = Ry * reducedMass/m_e\n",
    "E_He = 2*h*c*R_He\n",
    "F_He = E_He/(a_He*e)"
   ]
  },
  {
   "cell_type": "code",
   "execution_count": 7,
   "metadata": {},
   "outputs": [],
   "source": [
    "def map_maker1(m0_array, mH_array, field):\n",
    "    fsteps = field.shape[0]\n",
    "    neig = m0_array.shape[0]\n",
    "    \n",
    "    vals = np.zeros((fsteps, neig))\n",
    "    for i in range(fsteps):\n",
    "        fau = field[i] / F_He\n",
    "        val = (scipy.linalg.eigh(m0_array + mH_array*fau, eigvals_only=True) * E_He)/(h*c*100)\n",
    "        for j in range(neig):\n",
    "            vals[i,j] = val[j]\n",
    "    return vals"
   ]
  },
  {
   "cell_type": "code",
   "execution_count": 9,
   "metadata": {},
   "outputs": [],
   "source": [
    "field = np.linspace(0, 30, 400)# V /m\n",
    "v1 = map_maker1(np.asarray(m0), np.asarray(mH), field)"
   ]
  },
  {
   "cell_type": "code",
   "execution_count": 15,
   "metadata": {},
   "outputs": [],
   "source": [
    "vals = np.zeros((10, 20))"
   ]
  },
  {
   "cell_type": "code",
   "execution_count": 25,
   "metadata": {},
   "outputs": [
    {
     "data": {
      "text/plain": [
       "numba.core.types.npytypes.Array"
      ]
     },
     "execution_count": 25,
     "metadata": {},
     "output_type": "execute_result"
    }
   ],
   "source": [
    "from numba import types\n",
    "types.Array"
   ]
  },
  {
   "cell_type": "markdown",
   "metadata": {},
   "source": [
    "Numba Support"
   ]
  },
  {
   "cell_type": "code",
   "execution_count": null,
   "metadata": {},
   "outputs": [],
   "source": [
    "from numba import int32, float32 "
   ]
  },
  {
   "cell_type": "code",
   "execution_count": 108,
   "metadata": {},
   "outputs": [
    {
     "ename": "TypeError",
     "evalue": "class members are not yet supported: __hash__",
     "output_type": "error",
     "traceback": [
      "\u001b[0;31m---------------------------------------------------------------------------\u001b[0m",
      "\u001b[0;31mTypeError\u001b[0m                                 Traceback (most recent call last)",
      "\u001b[0;32m/var/folders/c2/rg2547w90wbdj10vy05z8c8m0000gn/T/ipykernel_12118/3376259224.py\u001b[0m in \u001b[0;36m<module>\u001b[0;34m\u001b[0m\n\u001b[1;32m      7\u001b[0m ]\n\u001b[1;32m      8\u001b[0m \u001b[0;34m@\u001b[0m\u001b[0mjitclass\u001b[0m\u001b[0;34m(\u001b[0m\u001b[0mspec\u001b[0m\u001b[0;34m)\u001b[0m\u001b[0;34m\u001b[0m\u001b[0;34m\u001b[0m\u001b[0m\n\u001b[0;32m----> 9\u001b[0;31m \u001b[0;32mclass\u001b[0m \u001b[0mDiagonalArray\u001b[0m\u001b[0;34m(\u001b[0m\u001b[0mnumpy\u001b[0m\u001b[0;34m.\u001b[0m\u001b[0mlib\u001b[0m\u001b[0;34m.\u001b[0m\u001b[0mmixins\u001b[0m\u001b[0;34m.\u001b[0m\u001b[0mNDArrayOperatorsMixin\u001b[0m\u001b[0;34m)\u001b[0m\u001b[0;34m:\u001b[0m\u001b[0;34m\u001b[0m\u001b[0;34m\u001b[0m\u001b[0m\n\u001b[0m\u001b[1;32m     10\u001b[0m    \u001b[0;32mdef\u001b[0m \u001b[0m__init__\u001b[0m\u001b[0;34m(\u001b[0m\u001b[0mself\u001b[0m\u001b[0;34m,\u001b[0m \u001b[0mN\u001b[0m\u001b[0;34m,\u001b[0m \u001b[0mvalue\u001b[0m\u001b[0;34m)\u001b[0m\u001b[0;34m:\u001b[0m\u001b[0;34m\u001b[0m\u001b[0;34m\u001b[0m\u001b[0m\n\u001b[1;32m     11\u001b[0m        \u001b[0mself\u001b[0m\u001b[0;34m.\u001b[0m\u001b[0m_N\u001b[0m \u001b[0;34m=\u001b[0m \u001b[0mN\u001b[0m\u001b[0;34m\u001b[0m\u001b[0;34m\u001b[0m\u001b[0m\n",
      "\u001b[0;32m~/Documents/PhD/Dipole Nulling/dipole_nulling.nosync/lib/python3.8/site-packages/numba/experimental/jitclass/decorators.py\u001b[0m in \u001b[0;36mwrap\u001b[0;34m(cls)\u001b[0m\n\u001b[1;32m     74\u001b[0m             \u001b[0;32mreturn\u001b[0m \u001b[0mcls\u001b[0m\u001b[0;34m\u001b[0m\u001b[0;34m\u001b[0m\u001b[0m\n\u001b[1;32m     75\u001b[0m         \u001b[0;32melse\u001b[0m\u001b[0;34m:\u001b[0m\u001b[0;34m\u001b[0m\u001b[0;34m\u001b[0m\u001b[0m\n\u001b[0;32m---> 76\u001b[0;31m             \u001b[0;32mreturn\u001b[0m \u001b[0mregister_class_type\u001b[0m\u001b[0;34m(\u001b[0m\u001b[0mcls\u001b[0m\u001b[0;34m,\u001b[0m \u001b[0mspec\u001b[0m\u001b[0;34m,\u001b[0m \u001b[0mtypes\u001b[0m\u001b[0;34m.\u001b[0m\u001b[0mClassType\u001b[0m\u001b[0;34m,\u001b[0m \u001b[0mClassBuilder\u001b[0m\u001b[0;34m)\u001b[0m\u001b[0;34m\u001b[0m\u001b[0;34m\u001b[0m\u001b[0m\n\u001b[0m\u001b[1;32m     77\u001b[0m \u001b[0;34m\u001b[0m\u001b[0m\n\u001b[1;32m     78\u001b[0m     \u001b[0;32mif\u001b[0m \u001b[0mcls_or_spec\u001b[0m \u001b[0;32mis\u001b[0m \u001b[0;32mNone\u001b[0m\u001b[0;34m:\u001b[0m\u001b[0;34m\u001b[0m\u001b[0;34m\u001b[0m\u001b[0m\n",
      "\u001b[0;32m~/Documents/PhD/Dipole Nulling/dipole_nulling.nosync/lib/python3.8/site-packages/numba/experimental/jitclass/base.py\u001b[0m in \u001b[0;36mregister_class_type\u001b[0;34m(cls, spec, class_ctor, builder)\u001b[0m\n\u001b[1;32m    209\u001b[0m         \u001b[0mmsg\u001b[0m \u001b[0;34m=\u001b[0m \u001b[0;34m\"class members are not yet supported: {0}\"\u001b[0m\u001b[0;34m\u001b[0m\u001b[0;34m\u001b[0m\u001b[0m\n\u001b[1;32m    210\u001b[0m         \u001b[0mmembers\u001b[0m \u001b[0;34m=\u001b[0m \u001b[0;34m', '\u001b[0m\u001b[0;34m.\u001b[0m\u001b[0mjoin\u001b[0m\u001b[0;34m(\u001b[0m\u001b[0mothers\u001b[0m\u001b[0;34m.\u001b[0m\u001b[0mkeys\u001b[0m\u001b[0;34m(\u001b[0m\u001b[0;34m)\u001b[0m\u001b[0;34m)\u001b[0m\u001b[0;34m\u001b[0m\u001b[0;34m\u001b[0m\u001b[0m\n\u001b[0;32m--> 211\u001b[0;31m         \u001b[0;32mraise\u001b[0m \u001b[0mTypeError\u001b[0m\u001b[0;34m(\u001b[0m\u001b[0mmsg\u001b[0m\u001b[0;34m.\u001b[0m\u001b[0mformat\u001b[0m\u001b[0;34m(\u001b[0m\u001b[0mmembers\u001b[0m\u001b[0;34m)\u001b[0m\u001b[0;34m)\u001b[0m\u001b[0;34m\u001b[0m\u001b[0;34m\u001b[0m\u001b[0m\n\u001b[0m\u001b[1;32m    212\u001b[0m \u001b[0;34m\u001b[0m\u001b[0m\n\u001b[1;32m    213\u001b[0m     \u001b[0;32mfor\u001b[0m \u001b[0mk\u001b[0m\u001b[0;34m,\u001b[0m \u001b[0mv\u001b[0m \u001b[0;32min\u001b[0m \u001b[0mprops\u001b[0m\u001b[0;34m.\u001b[0m\u001b[0mitems\u001b[0m\u001b[0;34m(\u001b[0m\u001b[0;34m)\u001b[0m\u001b[0;34m:\u001b[0m\u001b[0;34m\u001b[0m\u001b[0;34m\u001b[0m\u001b[0m\n",
      "\u001b[0;31mTypeError\u001b[0m: class members are not yet supported: __hash__"
     ]
    }
   ],
   "source": [
    "import numpy.lib.mixins\n",
    "from numba import int32, float32\n",
    "from numba.experimental import jitclass\n",
    "\n",
    "spec = [             # a simple scalar field\n",
    "    ('array', float32[:]),          # an array field\n",
    "]\n",
    "@jitclass(spec)\n",
    "class DiagonalArray(numpy.lib.mixins.NDArrayOperatorsMixin):\n",
    "   def __init__(self, N, value):\n",
    "       self._N = N\n",
    "       self._i = value\n",
    "       self.array = self.__array__\n",
    "   def __repr__(self):\n",
    "       return f\"{self.__class__.__name__}(N={self._N}, value={self._i})\"\n",
    "   def __array__(self, dtype=None):\n",
    "       return self._i * np.eye(self._N, dtype=None)\n",
    "   def __array_ufunc__(self, ufunc, method, *inputs, **kwargs):\n",
    "       if method == '__call__':\n",
    "           N = None\n",
    "           scalars = []\n",
    "           for input in inputs:\n",
    "               if isinstance(input, Number):\n",
    "                   scalars.append(input)\n",
    "               elif isinstance(input, self.__class__):\n",
    "                   scalars.append(input._i)\n",
    "                   if N is not None:\n",
    "                       if N != self._N:\n",
    "                           raise TypeError(\"inconsistent sizes\")\n",
    "                   else:\n",
    "                       N = self._N\n",
    "               else:\n",
    "                   return NotImplemented\n",
    "           return self.__class__(N, ufunc(*scalars, **kwargs))\n",
    "       else:\n",
    "           return NotImplemented"
   ]
  },
  {
   "cell_type": "code",
   "execution_count": 102,
   "metadata": {},
   "outputs": [],
   "source": [
    "class DiagonalArrayType(types.Array):\n",
    "    def __init__(self):\n",
    "        super(DiagonalArrayType, self).__init__(name='DiagonalArray')"
   ]
  },
  {
   "cell_type": "code",
   "execution_count": 103,
   "metadata": {},
   "outputs": [],
   "source": [
    "from numba.extending import typeof_impl\n",
    "@typeof_impl.register(DiagonalArray)\n",
    "def _typeof_DiagnolArray(val, c):\n",
    "    return types.Array"
   ]
  },
  {
   "cell_type": "code",
   "execution_count": 104,
   "metadata": {},
   "outputs": [],
   "source": [
    "@jit(nopython=True)\n",
    "def func_eig(interval):\n",
    "    return np.linalg.eigvals(interval)"
   ]
  },
  {
   "cell_type": "code",
   "execution_count": 105,
   "metadata": {},
   "outputs": [
    {
     "data": {
      "text/plain": [
       "array([[2., 0., 0., 0., 0.],\n",
       "       [0., 2., 0., 0., 0.],\n",
       "       [0., 0., 2., 0., 0.],\n",
       "       [0., 0., 0., 2., 0.],\n",
       "       [0., 0., 0., 0., 2.]])"
      ]
     },
     "execution_count": 105,
     "metadata": {},
     "output_type": "execute_result"
    }
   ],
   "source": [
    "arr = DiagonalArray(5, 1)\n",
    "np.asarray(arr+arr)"
   ]
  },
  {
   "cell_type": "code",
   "execution_count": 106,
   "metadata": {},
   "outputs": [
    {
     "ename": "AttributeError",
     "evalue": "type object 'Array' has no attribute '_code'",
     "output_type": "error",
     "traceback": [
      "\u001b[0;31m---------------------------------------------------------------------------\u001b[0m",
      "\u001b[0;31mAttributeError\u001b[0m                            Traceback (most recent call last)",
      "\u001b[0;32m/var/folders/c2/rg2547w90wbdj10vy05z8c8m0000gn/T/ipykernel_12118/2580600614.py\u001b[0m in \u001b[0;36m<module>\u001b[0;34m\u001b[0m\n\u001b[0;32m----> 1\u001b[0;31m \u001b[0mfunc_eig\u001b[0m\u001b[0;34m(\u001b[0m\u001b[0marr\u001b[0m\u001b[0;34m)\u001b[0m\u001b[0;34m\u001b[0m\u001b[0;34m\u001b[0m\u001b[0m\n\u001b[0m",
      "\u001b[0;31mAttributeError\u001b[0m: type object 'Array' has no attribute '_code'"
     ]
    }
   ],
   "source": [
    "func_eig(arr)"
   ]
  },
  {
   "cell_type": "code",
   "execution_count": 5,
   "metadata": {},
   "outputs": [],
   "source": [
    "from numbers import Number\n",
    "class DiagonalArray:\n",
    " def __init__(self, N, value):\n",
    "     self._N = N\n",
    "     self._i = value\n",
    " def __repr__(self):\n",
    "     return f\"{self.__class__.__name__}(N={self._N}, value={self._i})\"\n",
    " def __array__(self, dtype=None):\n",
    "     return self._i * np.eye(self._N, dtype=dtype)\n",
    " def __array_ufunc__(self, ufunc, method, *inputs, **kwargs):\n",
    "     if method == '__call__':\n",
    "         N = None\n",
    "         scalars = []\n",
    "         for input in inputs:\n",
    "             if isinstance(input, Number):\n",
    "                 scalars.append(input)\n",
    "             elif isinstance(input, self.__class__):\n",
    "                 scalars.append(input._i)\n",
    "                 if N is not None:\n",
    "                     if N != self._N:\n",
    "                         raise TypeError(\"inconsistent sizes\")\n",
    "                 else:\n",
    "                     N = self._N\n",
    "             else:\n",
    "                 return NotImplemented\n",
    "         return self.__class__(N, ufunc(*scalars, **kwargs))\n",
    "     else:\n",
    "         return NotImplemented"
   ]
  },
  {
   "cell_type": "code",
   "execution_count": 27,
   "metadata": {},
   "outputs": [],
   "source": [
    "HANDLED_FUNCTIONS = {}\n",
    "class DiagonalArray(numpy.lib.mixins.NDArrayOperatorsMixin):\n",
    "  def __init__(self, N, value):\n",
    "      self._N = N\n",
    "      self._i = value\n",
    "  def __repr__(self):\n",
    "      return f\"{self.__class__.__name__}(N={self._N}, value={self._i})\"\n",
    "  def __array__(self, dtype=None):\n",
    "      return self._i * np.eye(self._N, dtype=dtype)\n",
    "#   def __array_ufunc__(self, ufunc, method, *inputs, **kwargs):\n",
    "#       if method == '__call__':\n",
    "#           N = None\n",
    "#           scalars = []\n",
    "#           for input in inputs:\n",
    "#               # In this case we accept only scalar numbers or DiagonalArrays.\n",
    "#               if isinstance(input, Number):\n",
    "#                   scalars.append(input)\n",
    "#               elif isinstance(input, self.__class__):\n",
    "#                   scalars.append(input._i)\n",
    "#                   if N is not None:\n",
    "#                       if N != self._N:\n",
    "#                           raise TypeError(\"inconsistent sizes\")\n",
    "#                   else:\n",
    "#                       N = self._N\n",
    "#               else:\n",
    "#                   return NotImplemented\n",
    "#           return self.__class__(N, ufunc(*scalars, **kwargs))\n",
    "#       else:\n",
    "#           return NotImplemented\n",
    "#   def __array_function__(self, func, types, args, kwargs):\n",
    "#      if func not in HANDLED_FUNCTIONS:\n",
    "#          return NotImplemented\n",
    "#      # Note: this allows subclasses that don't override\n",
    "#      # __array_function__ to handle DiagonalArray objects.\n",
    "#      if not all(issubclass(t, self.__class__) for t in types):\n",
    "#          return NotImplemented\n",
    "#      return HANDLED_FUNCTIONS[func](*args, **kwargs)\n",
    "\n",
    "# def implements(np_function):\n",
    "#    def decorator(func):\n",
    "#        HANDLED_FUNCTIONS[np_function] = func\n",
    "#        return func\n",
    "#    return decorator"
   ]
  },
  {
   "cell_type": "code",
   "execution_count": 28,
   "metadata": {},
   "outputs": [],
   "source": [
    "a = DiagonalArray(5,1)"
   ]
  },
  {
   "cell_type": "code",
   "execution_count": 29,
   "metadata": {},
   "outputs": [
    {
     "data": {
      "text/plain": [
       "array([[2., 0., 0., 0., 0.],\n",
       "       [0., 2., 0., 0., 0.],\n",
       "       [0., 0., 2., 0., 0.],\n",
       "       [0., 0., 0., 2., 0.],\n",
       "       [0., 0., 0., 0., 2.]])"
      ]
     },
     "execution_count": 29,
     "metadata": {},
     "output_type": "execute_result"
    }
   ],
   "source": [
    "a + a"
   ]
  },
  {
   "cell_type": "code",
   "execution_count": 30,
   "metadata": {},
   "outputs": [
    {
     "ename": "AttributeError",
     "evalue": "'DiagonalArray' object has no attribute 'shape'",
     "output_type": "error",
     "traceback": [
      "\u001b[0;31m---------------------------------------------------------------------------\u001b[0m",
      "\u001b[0;31mAttributeError\u001b[0m                            Traceback (most recent call last)",
      "\u001b[0;32m/var/folders/c2/rg2547w90wbdj10vy05z8c8m0000gn/T/ipykernel_16564/1739083353.py\u001b[0m in \u001b[0;36m<module>\u001b[0;34m\u001b[0m\n\u001b[0;32m----> 1\u001b[0;31m \u001b[0ma\u001b[0m\u001b[0;34m.\u001b[0m\u001b[0mshape\u001b[0m\u001b[0;34m\u001b[0m\u001b[0;34m\u001b[0m\u001b[0m\n\u001b[0m",
      "\u001b[0;31mAttributeError\u001b[0m: 'DiagonalArray' object has no attribute 'shape'"
     ]
    }
   ],
   "source": [
    "a.shape"
   ]
  }
 ],
 "metadata": {
  "interpreter": {
   "hash": "397704579725e15f5c7cb49fe5f0341eb7531c82d19f2c29d197e8b64ab5776b"
  },
  "kernelspec": {
   "display_name": "Python 3.9.7 64-bit",
   "name": "python3"
  },
  "language_info": {
   "codemirror_mode": {
    "name": "ipython",
    "version": 3
   },
   "file_extension": ".py",
   "mimetype": "text/x-python",
   "name": "python",
   "nbconvert_exporter": "python",
   "pygments_lexer": "ipython3",
   "version": "3.9.7"
  },
  "orig_nbformat": 4
 },
 "nbformat": 4,
 "nbformat_minor": 2
}
