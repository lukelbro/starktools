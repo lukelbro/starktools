{
 "cells": [
  {
   "cell_type": "markdown",
   "source": [
    "# Stark Map\n",
    "\n",
    "In this notebook"
   ],
   "metadata": {}
  },
  {
   "cell_type": "code",
   "execution_count": 1,
   "source": [
    "import importlib\n",
    "import starktools as st\n",
    "\n",
    "import numpy as np"
   ],
   "outputs": [],
   "metadata": {}
  },
  {
   "cell_type": "code",
   "execution_count": 2,
   "source": [
    "defects = {\n",
    "        0 : [0.29665648771, 0.038296666, 0.0075131, -0.0045476],\n",
    "        1 : [0.06836028379, -0.018629228, -0.01233275, -0.0079527],\n",
    "        2 : [0.002891328825, -0.006357704, 0.0003367, 0.0008395],\n",
    "        3 : [0.00044737927, -0.001739217, 0.00010478, 3.31e-05],\n",
    "        4 : [0.00012714167, -0.000796484, -9.85e-06, -1.9e-05],\n",
    "        5 : [4.8729846e-05, -0.0004332281, -8.1e-06, 0],\n",
    "        6 : [2.3047609e-05, -0.0002610672, -4.04e-06, 0]\n",
    "}"
   ],
   "outputs": [],
   "metadata": {}
  },
  {
   "cell_type": "code",
   "execution_count": 7,
   "source": [
    "importlib.reload(st)\n",
    "nmin = 50\n",
    "nmax = 53\n",
    "m0 = st.MatrixH0(nmin, nmax, defects)\n",
    "mH = st.MatrixHs(nmin, nmax, defects)"
   ],
   "outputs": [],
   "metadata": {}
  },
  {
   "cell_type": "code",
   "execution_count": 8,
   "source": [
    "m0.nmax"
   ],
   "outputs": [
    {
     "output_type": "execute_result",
     "data": {
      "text/plain": [
       "53"
      ]
     },
     "metadata": {},
     "execution_count": 8
    }
   ],
   "metadata": {}
  },
  {
   "cell_type": "code",
   "execution_count": 10,
   "source": [
    "#CODATA 2014, DOI: 10.1103/RevModPhys.88.035009\n",
    "c = 299792458.0 ## speed of Heght in vacuum\n",
    "h = 6.626070040e-34\n",
    "hbar = 1.054571800e-34\n",
    "\n",
    "Ry = 10973731.568508\n",
    "e = 1.6021766208e-19\n",
    "m_e = 9.10938356e-31\n",
    "alpha = 7.2973525664e-3\n",
    "amu = 1.660539040e-27 # Kg   (NIST) unified atomic mass unit \n",
    "\n",
    "\n",
    "a_0 = hbar/ (m_e * c * alpha)\n",
    "mu_B = e * hbar / (2.0 * m_e)\n",
    "\n",
    "\n",
    "# Helium\n",
    "mHe = 4.0026*amu\n",
    "mHeIon = mHe - m_e\n",
    "reducedMass = (mHeIon * m_e)/(mHeIon+m_e)\n",
    "\n",
    "\n",
    "a_He  = (a_0*m_e)/reducedMass\n",
    "\n",
    "R_He = Ry * reducedMass/m_e\n",
    "E_He = 2*h*c*R_He"
   ],
   "outputs": [],
   "metadata": {}
  },
  {
   "cell_type": "code",
   "execution_count": 11,
   "source": [
    "# Lithium\n",
    "F_He = E_He/(a_He*e)"
   ],
   "outputs": [],
   "metadata": {}
  },
  {
   "cell_type": "code",
   "execution_count": 13,
   "source": [
    "def map_maker(m0_array, mH_array, field):\n",
    "    fsteps = field.shape[0]\n",
    "    neig = m0_array.shape[0]\n",
    "    \n",
    "    vals = np.zeros((fsteps, neig))\n",
    "    for i in range(fsteps):\n",
    "        fau = field[i] / F_He\n",
    "        val = (np.linalg.eigvalsh(m0_array + mH_array*fau) * E_He)/(h*c*100)\n",
    "        for j in range(neig):\n",
    "            vals[i,j] = val[j]\n",
    "    return vals"
   ],
   "outputs": [],
   "metadata": {}
  },
  {
   "cell_type": "code",
   "execution_count": 14,
   "source": [
    "field = np.linspace(0, 30, 200)# V /m\n",
    "v = map_maker(m0, mH, field)"
   ],
   "outputs": [],
   "metadata": {}
  }
 ],
 "metadata": {
  "orig_nbformat": 4,
  "language_info": {
   "name": "python",
   "version": "3.8.8",
   "mimetype": "text/x-python",
   "codemirror_mode": {
    "name": "ipython",
    "version": 3
   },
   "pygments_lexer": "ipython3",
   "nbconvert_exporter": "python",
   "file_extension": ".py"
  },
  "kernelspec": {
   "name": "python3",
   "display_name": "Python 3.8.8 64-bit ('dipole_nulling.nosync': venv)"
  },
  "interpreter": {
   "hash": "e779017e9365d5d2cc9b1399c6ebd7c9b20bdba35c7cc0e378a0479707add915"
  }
 },
 "nbformat": 4,
 "nbformat_minor": 2
}