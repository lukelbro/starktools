{
 "cells": [
  {
   "cell_type": "markdown",
   "metadata": {},
   "source": [
    "# Direct calculation of Polarizability\n",
    "\n",
    "Example calculation of the quadratic electric-dipole DC polarizability using second order perturbation theory:\n",
    "\n",
    "$$\n",
    "\\Delta E^{(2)} = \\sum\\limits_{n'l'm'}\\frac{\\langle \\psi_{nlm} | eFz|\\psi_{n'l'm'}\\rangle\\langle\\psi_{n'l'm'}| eFz |\\psi_{nlm}\\rangle}{E_{nl}-E_{n'l'}}\n",
    "$$\n",
    "\n",
    "$$\n",
    "\\Delta E^{(2)} = -\\frac{1}{2} \\alpha\n",
    "$$\n",
    "\n",
    "$$\n",
    "\\alpha = -2 \\sum\\limits_{n'l'm'}\\frac{\\langle \\psi_{nlm} | ez|\\psi_{n'l'm'}\\rangle\\langle\\psi_{n'l'm'}| ez |\\psi_{nlm}\\rangle}{E_{nl}-E_{n'l'}}\n",
    "$$"
   ]
  },
  {
   "cell_type": "code",
   "execution_count": 1,
   "metadata": {},
   "outputs": [],
   "source": [
    "import starktools as st\n",
    "import numpy as np"
   ]
  },
  {
   "cell_type": "code",
   "execution_count": 2,
   "metadata": {},
   "outputs": [],
   "source": [
    "# Helium Defects\n",
    "defects = {\n",
    "        0 : [0.29665648771, 0.038296666, 0.0075131, -0.0045476],\n",
    "        1 : [0.06836028379, -0.018629228, -0.01233275, -0.0079527],\n",
    "        2 : [0.002891328825, -0.006357704, 0.0003367, 0.0008395],\n",
    "        3 : [0.00044737927, -0.001739217, 0.00010478, 3.31e-05],\n",
    "        4 : [0.00012714167, -0.000796484, -9.85e-06, -1.9e-05],\n",
    "        5 : [4.8729846e-05, -0.0004332281, -8.1e-06, 0],\n",
    "        6 : [2.3047609e-05, -0.0002610672, -4.04e-06, 0]\n",
    "}\n",
    "qd = st.QuantumDefects(defects)"
   ]
  },
  {
   "cell_type": "code",
   "execution_count": 3,
   "metadata": {},
   "outputs": [
    {
     "data": {
      "text/plain": [
       "-39.11299844800716"
      ]
     },
     "execution_count": 3,
     "metadata": {},
     "output_type": "execute_result"
    }
   ],
   "source": [
    "def calc_transition(n1, l1, n2, l2):\n",
    "    return st.Constants.c/(1/((qd.energy_level(n1, l1)*st.Constants.R_He  - qd.energy_level(n2, l2)*st.Constants.R_He)))*10**-9\n",
    "\n",
    "# Transition frequency of 55s -> 56s\n",
    "calc_transition(55, 0, 56, 0) "
   ]
  },
  {
   "cell_type": "code",
   "execution_count": 4,
   "metadata": {},
   "outputs": [
    {
     "data": {
      "text/plain": [
       "2.0828063218290663e-26"
      ]
     },
     "execution_count": 4,
     "metadata": {},
     "output_type": "execute_result"
    }
   ],
   "source": [
    "# electric dipole transition moment of 55s -> 55p in Cm\n",
    "electricDipoleMoment = qd.calc_matrix_element(55, 0, 55, 1, nmax = 80) * st.Constants.e * st.Constants.a_He\n",
    "electricDipoleMoment"
   ]
  },
  {
   "cell_type": "code",
   "execution_count": 7,
   "metadata": {},
   "outputs": [],
   "source": [
    "state = (56, 0)\n",
    "\n",
    "polarizability = 0\n",
    "nmin = 40\n",
    "nmax = 70\n",
    "\n",
    "for n in range(nmin, nmax):\n",
    "    energydiff = calc_transition(state[0], state[1], n, 1)\n",
    "    electricDipoleMoment = qd.calc_matrix_element(state[0], state[1], n, 1, nmax = 90) * st.Constants.e * st.Constants.a_He/st.Constants.h* 10**-9\n",
    "\n",
    "    polarizability += electricDipoleMoment**2/energydiff\n",
    "\n",
    "polarizability = polarizability*2"
   ]
  },
  {
   "cell_type": "code",
   "execution_count": 6,
   "metadata": {},
   "outputs": [
    {
     "data": {
      "text/plain": [
       "2.0287875560447914"
      ]
     },
     "execution_count": 6,
     "metadata": {},
     "output_type": "execute_result"
    }
   ],
   "source": [
    "# Polarizability of 55s state in GHz/(V/cm)^2\n",
    "-polarizability*100**2"
   ]
  },
  {
   "cell_type": "code",
   "execution_count": 8,
   "metadata": {},
   "outputs": [
    {
     "data": {
      "text/plain": [
       "2.301894746748379"
      ]
     },
     "execution_count": 8,
     "metadata": {},
     "output_type": "execute_result"
    }
   ],
   "source": [
    "-polarizability*100**2"
   ]
  },
  {
   "cell_type": "code",
   "execution_count": 11,
   "metadata": {},
   "outputs": [
    {
     "data": {
      "text/plain": [
       "0.2731071907035876"
      ]
     },
     "execution_count": 11,
     "metadata": {},
     "output_type": "execute_result"
    }
   ],
   "source": [
    "2.301894746748379-2.0287875560447914"
   ]
  },
  {
   "cell_type": "code",
   "execution_count": 13,
   "metadata": {},
   "outputs": [],
   "source": [
    "def calc_transition(n1, l1, n2, l2):\n",
    "    return st.Constants.c/(1/((qd.energy_level(n1, l1)*st.Constants.R_He  - qd.energy_level(n2, l2)*st.Constants.R_He)))*10**-9"
   ]
  },
  {
   "cell_type": "code",
   "execution_count": 14,
   "metadata": {},
   "outputs": [
    {
     "data": {
      "text/plain": [
       "786.7358387827425"
      ]
     },
     "execution_count": 14,
     "metadata": {},
     "output_type": "execute_result"
    }
   ],
   "source": [
    "1/((calc_transition(56,0 , 55, 0)*10**9/st.Constants.c) + 1/(786.8166e-9))*10**9"
   ]
  },
  {
   "cell_type": "code",
   "execution_count": null,
   "metadata": {},
   "outputs": [],
   "source": []
  }
 ],
 "metadata": {
  "kernelspec": {
   "display_name": "Python 3",
   "language": "python",
   "name": "python3"
  },
  "language_info": {
   "codemirror_mode": {
    "name": "ipython",
    "version": 3
   },
   "file_extension": ".py",
   "mimetype": "text/x-python",
   "name": "python",
   "nbconvert_exporter": "python",
   "pygments_lexer": "ipython3",
   "version": "3.9.4"
  }
 },
 "nbformat": 4,
 "nbformat_minor": 2
}
