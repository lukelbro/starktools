{
 "cells": [
  {
   "cell_type": "code",
   "execution_count": 1,
   "metadata": {},
   "outputs": [],
   "source": [
    "import starktools\n",
    "import numpy as np"
   ]
  },
  {
   "cell_type": "code",
   "execution_count": 2,
   "metadata": {},
   "outputs": [],
   "source": [
    "defects = {\n",
    "    0 : [0.29665648771, 0.038296666, 0.0075131, -0.0045476],\n",
    "    1 : [0.06836028379, -0.018629228, -0.01233275, -0.0079527],\n",
    "    2 : [0.002891328825, -0.006357704, 0.0003367, 0.0008395],\n",
    "    3 : [0.00044737927, -0.001739217, 0.00010478, 3.31e-05],\n",
    "    4 : [0.00012714167, -0.000796484, -9.85e-06, -1.9e-05],\n",
    "    5 : [4.8729846e-05, -0.0004332281, -8.1e-06, 0],\n",
    "    6 : [2.3047609e-05, -0.0002610672, -4.04e-06, 0]\n",
    "}\n",
    "qd = starktools.QuantumDefects(defects)\n",
    "\n",
    "def calc_transition(n1, l1, n2, l2):\n",
    "    return starktools.Constants.c/(1/((qd.energy_level(n1, l1)*starktools.Constants.R_He  - qd.energy_level(n2, l2)*starktools.Constants.R_He)))*10**-9"
   ]
  },
  {
   "cell_type": "code",
   "execution_count": 3,
   "metadata": {},
   "outputs": [],
   "source": [
    "def find_eigen(n, l, v, offset=0):\n",
    "    qd = starktools.QuantumDefects(defects)\n",
    "    energy = qd.energy_level(n, l) * starktools.Constants.E_He/starktools.Constants.h/2 + offset#+  qd.calc_matrix_element(55,0, 55, 1, 70)+offset\n",
    "    return find_nearest(v, energy)\n",
    "\n",
    "\n",
    "def find_nearest(array, value):\n",
    "    array = np.asarray(array)\n",
    "    idx = (np.abs(array - value)).argmin()\n",
    "    return idx"
   ]
  },
  {
   "cell_type": "code",
   "execution_count": 4,
   "metadata": {},
   "outputs": [],
   "source": [
    "qd = starktools.QuantumDefects(defects)\n",
    "\n",
    "electricDipoleMoment = qd.calc_matrix_element(55, 0, 55, 1, nmax = 80) * starktools.Constants.e * starktools.Constants.a_He\n",
    "\n",
    "estrength = 0.5\n",
    "\n",
    "rabi = electricDipoleMoment * estrength/starktools.Constants.h\n",
    "nmin = 52\n",
    "nmax = 58\n",
    "q = [1]\n",
    "freq = [(9.118568e9 +44e6)* starktools.Constants.h /starktools.Constants.E_He]\n",
    "vac = [estrength]\n",
    "\n",
    "h0 = np.asarray(starktools.MatrixH0NFloquet(nmin, nmax, q, freq, defects))\n",
    "hf = np.asarray(starktools.MatrixHfNFloquet(nmin, nmax, q, vac, defects)) * 1/starktools.Constants.F_He \n",
    "\n",
    "neig = h0.shape[0]\n",
    "val = np.linalg.eigvals(h0 + hf)*starktools.Constants.E_He/starktools.Constants.h\n",
    "\n",
    "ind55s = find_eigen(55, 0, val, offset=+rabi/2) # you should think carefully about which dressed state you want.\n",
    "ind56s = find_eigen(56, 0, val)"
   ]
  },
  {
   "cell_type": "code",
   "execution_count": 5,
   "metadata": {},
   "outputs": [
    {
     "data": {
      "text/plain": [
       "1.234771215946239"
      ]
     },
     "execution_count": 5,
     "metadata": {},
     "output_type": "execute_result"
    }
   ],
   "source": [
    "19556.499*2 - ((val[ind56s] - val[ind55s]))*1e-6"
   ]
  }
 ],
 "metadata": {
  "kernelspec": {
   "display_name": "torch-gpu",
   "language": "python",
   "name": "python3"
  },
  "language_info": {
   "codemirror_mode": {
    "name": "ipython",
    "version": 3
   },
   "file_extension": ".py",
   "mimetype": "text/x-python",
   "name": "python",
   "nbconvert_exporter": "python",
   "pygments_lexer": "ipython3",
   "version": "3.9.16"
  }
 },
 "nbformat": 4,
 "nbformat_minor": 2
}
