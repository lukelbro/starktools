from starktools.Examples.Quadratic_Polarizability import cached_calc_transition

def test_cached_calc_transition():
    # Test case 1
    n1 = 1
    l1 = 0
    n2 = 2
    l2 = 1
    expected_result = calc_transition(n1, l1, n2, l2)
    assert cached_calc_transition(n1, l1, n2, l2) == expected_result

    # Test case 2
    n1 = 3
    l1 = 1
    n2 = 4
    l2 = 2
    expected_result = calc_transition(n1, l1, n2, l2)
    assert cached_calc_transition(n1, l1, n2, l2) == expected_result

    # Test case 3
    n1 = 2
    l1 = 0
    n2 = 3
    l2 = 0
    expected_result = calc_transition(n1, l1, n2, l2)
    assert cached_calc_transition(n1, l1, n2, l2) == expected_result